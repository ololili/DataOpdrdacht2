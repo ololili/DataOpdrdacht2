{
 "cells": [
  {
   "cell_type": "code",
   "execution_count": 1,
   "id": "80fc2f5d",
   "metadata": {
    "collapsed": false
   },
   "outputs": [
    {
     "name": "stdout",
     "output_type": "stream",
     "text": [
      "importing Jupyter notebook from DataPreparation.ipynb\n"
     ]
    }
   ],
   "source": [
    "import pandas as pd\n",
    "import import_ipynb\n",
    "from DataPreparation import get_accident_df"
   ]
  },
  {
   "cell_type": "code",
   "execution_count": 2,
   "id": "cd732f65",
   "metadata": {
    "collapsed": false
   },
   "outputs": [],
   "source": [
    "df = pd.read_csv(\"DataSubsetRaw.csv\")\n"
   ]
  },
  {
   "cell_type": "code",
   "execution_count": 3,
   "id": "e837d3d1",
   "metadata": {
    "collapsed": false
   },
   "outputs": [
    {
     "name": "stdout",
     "output_type": "stream",
     "text": [
      "<class 'pandas.core.frame.DataFrame'>\n",
      "RangeIndex: 10000 entries, 0 to 9999\n",
      "Data columns (total 50 columns):\n",
      " #   Column                 Non-Null Count  Dtype  \n",
      "---  ------                 --------------  -----  \n",
      " 0   Unnamed: 0             10000 non-null  int64  \n",
      " 1   ID                     10000 non-null  object \n",
      " 2   Source                 10000 non-null  object \n",
      " 3   TMC                    7008 non-null   float64\n",
      " 4   Severity               10000 non-null  int64  \n",
      " 5   Start_Time             10000 non-null  object \n",
      " 6   End_Time               10000 non-null  object \n",
      " 7   Start_Lat              10000 non-null  float64\n",
      " 8   Start_Lng              10000 non-null  float64\n",
      " 9   End_Lat                2992 non-null   float64\n",
      " 10  End_Lng                2992 non-null   float64\n",
      " 11  Distance(mi)           10000 non-null  float64\n",
      " 12  Description            10000 non-null  object \n",
      " 13  Number                 3540 non-null   float64\n",
      " 14  Street                 10000 non-null  object \n",
      " 15  Side                   10000 non-null  object \n",
      " 16  City                   9999 non-null   object \n",
      " 17  County                 10000 non-null  object \n",
      " 18  State                  10000 non-null  object \n",
      " 19  Zipcode                9996 non-null   object \n",
      " 20  Country                10000 non-null  object \n",
      " 21  Timezone               9986 non-null   object \n",
      " 22  Airport_Code           9982 non-null   object \n",
      " 23  Weather_Timestamp      9856 non-null   object \n",
      " 24  Temperature(F)         9804 non-null   float64\n",
      " 25  Wind_Chill(F)          4686 non-null   float64\n",
      " 26  Humidity(%)            9786 non-null   float64\n",
      " 27  Pressure(in)           9830 non-null   float64\n",
      " 28  Visibility(mi)         9779 non-null   float64\n",
      " 29  Wind_Direction         9816 non-null   object \n",
      " 30  Wind_Speed(mph)        8661 non-null   float64\n",
      " 31  Precipitation(in)      4208 non-null   float64\n",
      " 32  Weather_Condition      9782 non-null   object \n",
      " 33  Amenity                10000 non-null  bool   \n",
      " 34  Bump                   10000 non-null  bool   \n",
      " 35  Crossing               10000 non-null  bool   \n",
      " 36  Give_Way               10000 non-null  bool   \n",
      " 37  Junction               10000 non-null  bool   \n",
      " 38  No_Exit                10000 non-null  bool   \n",
      " 39  Railway                10000 non-null  bool   \n",
      " 40  Roundabout             10000 non-null  bool   \n",
      " 41  Station                10000 non-null  bool   \n",
      " 42  Stop                   10000 non-null  bool   \n",
      " 43  Traffic_Calming        10000 non-null  bool   \n",
      " 44  Traffic_Signal         10000 non-null  bool   \n",
      " 45  Turning_Loop           10000 non-null  bool   \n",
      " 46  Sunrise_Sunset         9999 non-null   object \n",
      " 47  Civil_Twilight         9999 non-null   object \n",
      " 48  Nautical_Twilight      9999 non-null   object \n",
      " 49  Astronomical_Twilight  9999 non-null   object \n",
      "dtypes: bool(13), float64(14), int64(2), object(21)\n",
      "memory usage: 2.9+ MB\n"
     ]
    }
   ],
   "source": [
    "df.info()"
   ]
  },
  {
   "cell_type": "code",
   "execution_count": 4,
   "id": "d2a30ab1",
   "metadata": {
    "collapsed": false
   },
   "outputs": [],
   "source": [
    "#made some changes to test commit - jason"
   ]
  },
  {
   "cell_type": "markdown",
   "id": "7b9a5402",
   "metadata": {
    "collapsed": false
   },
   "source": [
    "Testing DataPreparation.ipynb"
   ]
  },
  {
   "cell_type": "code",
   "execution_count": 6,
   "id": "45499472",
   "metadata": {
    "collapsed": false
   },
   "outputs": [
    {
     "name": "stdout",
     "output_type": "stream",
     "text": [
      "3513567\n"
     ]
    },
    {
     "name": "stdout",
     "output_type": "stream",
     "text": [
      "3513567\n"
     ]
    },
    {
     "name": "stdout",
     "output_type": "stream",
     "text": [
      "         ID    Source    TMC  Severity           Start_Time  \\\n",
      "0    A-5713  MapQuest  241.0         3  2016-12-05 18:45:35   \n",
      "1   A-53447  MapQuest  201.0         2  2016-12-01 20:48:31   \n",
      "2   A-79488  MapQuest  201.0         2  2016-09-25 11:03:11   \n",
      "3  A-283799  MapQuest  201.0         2  2016-09-12 07:04:35   \n",
      "4  A-284929  MapQuest  201.0         2  2016-09-15 23:04:40   \n",
      "\n",
      "              End_Time  Start_Lat   Start_Lng  End_Lat  End_Lng  ...  \\\n",
      "0  2016-12-05 19:15:17  37.841358 -122.297058      NaN      NaN  ...   \n",
      "1  2016-12-01 21:33:13  34.414661 -117.224731      NaN      NaN  ...   \n",
      "2  2016-09-25 11:47:33  34.046745 -118.268600      NaN      NaN  ...   \n",
      "3  2016-09-12 07:49:35  32.887520  -96.630798      NaN      NaN  ...   \n",
      "4  2016-09-15 23:46:05  30.456305  -97.664421      NaN      NaN  ...   \n",
      "\n",
      "   Roundabout Station   Stop Traffic_Calming Traffic_Signal Turning_Loop  \\\n",
      "0       False   False  False           False          False        False   \n",
      "1       False   False  False           False          False        False   \n",
      "2       False   False  False           False          False        False   \n",
      "3       False   False  False           False           True        False   \n",
      "4       False   False  False           False           True        False   \n",
      "\n",
      "  Sunrise_Sunset Civil_Twilight Nautical_Twilight Astronomical_Twilight  \n",
      "0          Night          Night             Night                 Night  \n",
      "1          Night          Night             Night                 Night  \n",
      "2            Day            Day               Day                   Day  \n",
      "3          Night            Day               Day                   Day  \n",
      "4          Night          Night             Night                 Night  \n",
      "\n",
      "[5 rows x 49 columns]\n",
      "         ID    Source    TMC  Severity           Start_Time  \\\n",
      "0   A-16367  MapQuest  241.0         3  2016-11-11 15:50:39   \n",
      "1   A-17173  MapQuest  241.0         2  2016-11-16 20:15:06   \n",
      "2  A-108683  MapQuest  222.0         2  2016-05-23 18:44:40   \n",
      "3  A-113891  MapQuest  201.0         3  2016-06-10 14:12:42   \n",
      "4  A-133455  MapQuest  201.0         2  2016-10-04 11:33:45   \n",
      "\n",
      "              End_Time  Start_Lat   Start_Lng  End_Lat  End_Lng  ...  \\\n",
      "0  2016-11-11 16:20:18  37.701878 -121.901398      NaN      NaN  ...   \n",
      "1  2016-11-16 20:59:09  38.956615 -121.101318      NaN      NaN  ...   \n",
      "2  2016-05-23 19:14:40  32.701214 -117.120659      NaN      NaN  ...   \n",
      "3  2016-06-10 14:57:42  32.629066 -117.043617      NaN      NaN  ...   \n",
      "4  2016-10-04 12:03:35  27.601379  -82.539497      NaN      NaN  ...   \n",
      "\n",
      "   Roundabout Station   Stop Traffic_Calming Traffic_Signal Turning_Loop  \\\n",
      "0       False   False  False           False          False        False   \n",
      "1       False   False  False           False           True        False   \n",
      "2       False   False  False           False          False        False   \n",
      "3       False   False  False           False          False        False   \n",
      "4       False   False  False           False           True        False   \n",
      "\n",
      "  Sunrise_Sunset Civil_Twilight Nautical_Twilight Astronomical_Twilight  \n",
      "0            Day            Day               Day                   Day  \n",
      "1          Night          Night             Night                 Night  \n",
      "2            Day            Day               Day                   Day  \n",
      "3            Day            Day               Day                   Day  \n",
      "4            Day            Day               Day                   Day  \n",
      "\n",
      "[5 rows x 49 columns]\n"
     ]
    }
   ],
   "source": [
    "df_one = get_accident_df(subset=\"new\", n_rows=50)\n",
    "df_two = get_accident_df(subset=\"new\", n_rows=50)\n",
    "print(df_one.head())\n",
    "print(df_two.head())"
   ]
  }
 ],
 "metadata": {
  "kernelspec": {
   "argv": [
    "C:/Users/danie/miniconda3/envs/WTData\\python.exe",
    "-m",
    "ipykernel_launcher",
    "-f",
    "{connection_file}"
   ],
   "display_name": "Python 3 (ipykernel)",
   "env": null,
   "interrupt_mode": "signal",
   "language": "python",
   "metadata": {
    "debugger": true
   },
   "name": "python3"
  },
  "language_info": {
   "codemirror_mode": {
    "name": "ipython",
    "version": 3
   },
   "file_extension": ".py",
   "mimetype": "text/x-python",
   "name": "python",
   "nbconvert_exporter": "python",
   "pygments_lexer": "ipython3",
   "version": "3.7.13"
  },
  "name": "Test.ipynb"
 },
 "nbformat": 4,
 "nbformat_minor": 5
}
