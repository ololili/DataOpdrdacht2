{
 "cells": [
  {
   "cell_type": "code",
   "execution_count": 1,
   "id": "5aea13b9",
   "metadata": {},
   "outputs": [],
   "source": [
    "import pandas as pd"
   ]
  },
  {
   "cell_type": "code",
   "execution_count": 16,
   "id": "3189ad3a",
   "metadata": {},
   "outputs": [],
   "source": [
    "df = pd.read_csv(\"DataSubsetRaw.csv\")\n"
   ]
  },
  {
   "cell_type": "code",
   "execution_count": 17,
   "id": "848baa6f",
   "metadata": {},
   "outputs": [
    {
     "name": "stdout",
     "output_type": "stream",
     "text": [
      "<class 'pandas.core.frame.DataFrame'>\n",
      "RangeIndex: 10000 entries, 0 to 9999\n",
      "Data columns (total 50 columns):\n",
      " #   Column                 Non-Null Count  Dtype  \n",
      "---  ------                 --------------  -----  \n",
      " 0   Unnamed: 0             10000 non-null  int64  \n",
      " 1   ID                     10000 non-null  object \n",
      " 2   Source                 10000 non-null  object \n",
      " 3   TMC                    7008 non-null   float64\n",
      " 4   Severity               10000 non-null  int64  \n",
      " 5   Start_Time             10000 non-null  object \n",
      " 6   End_Time               10000 non-null  object \n",
      " 7   Start_Lat              10000 non-null  float64\n",
      " 8   Start_Lng              10000 non-null  float64\n",
      " 9   End_Lat                2992 non-null   float64\n",
      " 10  End_Lng                2992 non-null   float64\n",
      " 11  Distance(mi)           10000 non-null  float64\n",
      " 12  Description            10000 non-null  object \n",
      " 13  Number                 3540 non-null   float64\n",
      " 14  Street                 10000 non-null  object \n",
      " 15  Side                   10000 non-null  object \n",
      " 16  City                   9999 non-null   object \n",
      " 17  County                 10000 non-null  object \n",
      " 18  State                  10000 non-null  object \n",
      " 19  Zipcode                9996 non-null   object \n",
      " 20  Country                10000 non-null  object \n",
      " 21  Timezone               9986 non-null   object \n",
      " 22  Airport_Code           9982 non-null   object \n",
      " 23  Weather_Timestamp      9856 non-null   object \n",
      " 24  Temperature(F)         9804 non-null   float64\n",
      " 25  Wind_Chill(F)          4686 non-null   float64\n",
      " 26  Humidity(%)            9786 non-null   float64\n",
      " 27  Pressure(in)           9830 non-null   float64\n",
      " 28  Visibility(mi)         9779 non-null   float64\n",
      " 29  Wind_Direction         9816 non-null   object \n",
      " 30  Wind_Speed(mph)        8661 non-null   float64\n",
      " 31  Precipitation(in)      4208 non-null   float64\n",
      " 32  Weather_Condition      9782 non-null   object \n",
      " 33  Amenity                10000 non-null  bool   \n",
      " 34  Bump                   10000 non-null  bool   \n",
      " 35  Crossing               10000 non-null  bool   \n",
      " 36  Give_Way               10000 non-null  bool   \n",
      " 37  Junction               10000 non-null  bool   \n",
      " 38  No_Exit                10000 non-null  bool   \n",
      " 39  Railway                10000 non-null  bool   \n",
      " 40  Roundabout             10000 non-null  bool   \n",
      " 41  Station                10000 non-null  bool   \n",
      " 42  Stop                   10000 non-null  bool   \n",
      " 43  Traffic_Calming        10000 non-null  bool   \n",
      " 44  Traffic_Signal         10000 non-null  bool   \n",
      " 45  Turning_Loop           10000 non-null  bool   \n",
      " 46  Sunrise_Sunset         9999 non-null   object \n",
      " 47  Civil_Twilight         9999 non-null   object \n",
      " 48  Nautical_Twilight      9999 non-null   object \n",
      " 49  Astronomical_Twilight  9999 non-null   object \n",
      "dtypes: bool(13), float64(14), int64(2), object(21)\n",
      "memory usage: 2.9+ MB\n"
     ]
    }
   ],
   "source": [
    "df.info()"
   ]
  },
  {
   "cell_type": "code",
   "execution_count": null,
   "id": "006c3187",
   "metadata": {},
   "outputs": [],
   "source": [
    "#made some changes to test commit - jason"
   ]
  }
 ],
 "metadata": {
  "kernelspec": {
   "display_name": "Python 3 (ipykernel)",
   "language": "python",
   "name": "python3"
  },
  "language_info": {
   "codemirror_mode": {
    "name": "ipython",
    "version": 3
   },
   "file_extension": ".py",
   "mimetype": "text/x-python",
   "name": "python",
   "nbconvert_exporter": "python",
   "pygments_lexer": "ipython3",
   "version": "3.7.13"
  },
  "name": "Test.ipynb"
 },
 "nbformat": 4,
 "nbformat_minor": 5
}
