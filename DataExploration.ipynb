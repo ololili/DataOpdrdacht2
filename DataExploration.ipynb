{
 "cells": [
  {
   "cell_type": "markdown",
   "id": "19cd3b7b",
   "metadata": {
    "collapsed": false
   },
   "source": [
    "Todo:\n",
    "Convert values to the right dtype\n",
    "Convert to metric\n",
    "Settle on naming convention for columns (camelCase or snake_case)"
   ]
  },
  {
   "cell_type": "markdown",
   "id": "23e9b628",
   "metadata": {
    "collapsed": false
   },
   "source": [
    "Imports"
   ]
  },
  {
   "cell_type": "code",
   "execution_count": 2,
   "id": "e66eedd8",
   "metadata": {
    "collapsed": false
   },
   "outputs": [],
   "source": [
    "import pandas as pd\n",
    "import seaborn as sns\n",
    "import matplotlib.pyplot as plt"
   ]
  },
  {
   "cell_type": "markdown",
   "id": "3ae1868a",
   "metadata": {
    "collapsed": false
   },
   "source": [
    "Getting the database"
   ]
  },
  {
   "cell_type": "code",
   "execution_count": 3,
   "id": "4d5a333b",
   "metadata": {
    "collapsed": false
   },
   "outputs": [],
   "source": [
    "df = pd.read_csv(\"DataSubsetRaw.csv\")"
   ]
  },
  {
   "cell_type": "markdown",
   "id": "e1c6ea70",
   "metadata": {
    "collapsed": false
   },
   "source": [
    "Geographical data"
   ]
  },
  {
   "cell_type": "code",
   "execution_count": null,
   "id": "969e5edb",
   "metadata": {
    "collapsed": false
   },
   "outputs": [],
   "source": [
    "sns.set(rc = {'figure.figsize':(13, 10)})\n",
    "sns.scatterplot(data=df, y=\"Start_Lat\", x=\"Start_Lng\", hue=\"State\")\n",
    "plt.show()"
   ]
  },
  {
   "cell_type": "markdown",
   "id": "36b15529",
   "metadata": {
    "collapsed": false
   },
   "source": [
    "Weather Data"
   ]
  },
  {
   "cell_type": "code",
   "execution_count": 5,
   "id": "e5aec0b7",
   "metadata": {
    "collapsed": false
   },
   "outputs": [],
   "source": [
    "weather = [\"Weather_Timestamp\",\n",
    "           \"Temperature(F)\",\n",
    "           \"Wind_Chill(F)\",\n",
    "           \"Humidity(%)\",\n",
    "           \"Pressure(in)\",\n",
    "           \"Visibility(mi)\",\n",
    "           \"Wind_Direction\",\n",
    "           \"Wind_Speed(mph)\",\n",
    "           \"Precipitation(in)\",\n",
    "           \"Weather_Condition\"]"
   ]
  },
  {
   "cell_type": "code",
   "execution_count": null,
   "id": "699aa69a",
   "metadata": {
    "collapsed": false
   },
   "outputs": [],
   "source": [
    "sns.scatterplot(data=df, x=\"Temperature(F)\", y=\"Humidity(%)\", hue=\"Visibility(mi)\")\n",
    "plt.show()"
   ]
  },
  {
   "cell_type": "markdown",
   "id": "28aa12d6",
   "metadata": {
    "collapsed": false
   },
   "source": [
    "Time Data"
   ]
  },
  {
   "cell_type": "code",
   "execution_count": 7,
   "id": "7b4a2c29",
   "metadata": {
    "collapsed": false
   },
   "outputs": [],
   "source": [
    "df[\"Start_Time\"] = pd.to_datetime(df[\"Start_Time\"])"
   ]
  },
  {
   "cell_type": "code",
   "execution_count": null,
   "id": "b378cb2b",
   "metadata": {
    "collapsed": false
   },
   "outputs": [],
   "source": [
    "df[\"Time_in_Year\"] = df[\"Start_Time\"].apply(lambda x: x.replace(year = 2020))\n",
    "df[\"Time_of_Day\"] = df[\"Start_Time\"].apply(lambda x: x.replace(year = 2020, day = 1, month = 1))\n",
    "sns.histplot(data=df, x=\"Time_in_Year\", bins=365)\n",
    "plt.show()"
   ]
  }
 ],
 "metadata": {
  "kernelspec": {
   "argv": [
    "C:/Users/danie/miniconda3/envs/WTData\\python.exe",
    "-m",
    "ipykernel_launcher",
    "-f",
    "{connection_file}"
   ],
   "display_name": "Python 3 (ipykernel)",
   "env": null,
   "interrupt_mode": "signal",
   "language": "python",
   "metadata": {
    "debugger": true
   },
   "name": "python3"
  },
  "name": "DataExploration.ipynb"
 },
 "nbformat": 4,
 "nbformat_minor": 5
}
