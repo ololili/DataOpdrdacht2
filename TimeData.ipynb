{
 "cells": [
  {
   "cell_type": "code",
   "execution_count": 8,
   "id": "9337d590",
   "metadata": {
    "collapsed": false
   },
   "outputs": [],
   "source": [
    "import pandas as pd\n",
    "import seaborn as sns\n",
    "import matplotlib.pyplot as plt\n",
    "import import_ipynb\n",
    "from DataPreparation import refine_df"
   ]
  },
  {
   "cell_type": "code",
   "execution_count": 9,
   "id": "92040ae9",
   "metadata": {
    "collapsed": false
   },
   "outputs": [],
   "source": [
    "df = pd.read_csv(\"US_Accidents_June20.csv\")\n",
    "#df = pd.read_csv(\"DataSubsetRaw.csv\")\n",
    "df = refine_df(df)"
   ]
  },
  {
   "cell_type": "code",
   "execution_count": 10,
   "id": "dfb6c4dc",
   "metadata": {
    "collapsed": false
   },
   "outputs": [
    {
     "name": "stdout",
     "output_type": "stream",
     "text": [
      "<class 'pandas.core.frame.DataFrame'>\n",
      "RangeIndex: 3513617 entries, 0 to 3513616\n",
      "Data columns (total 50 columns):\n",
      " #   Column                Dtype          \n",
      "---  ------                -----          \n",
      " 0   ID                    object         \n",
      " 1   Source                object         \n",
      " 2   TMC                   float64        \n",
      " 3   Severity              int64          \n",
      " 4   StartTime             datetime64[ns] \n",
      " 5   EndTime               datetime64[ns] \n",
      " 6   StartLat              float64        \n",
      " 7   StartLng              float64        \n",
      " 8   EndLat                float64        \n",
      " 9   EndLng                float64        \n",
      " 10  Distance              float64        \n",
      " 11  Description           object         \n",
      " 12  Number                float64        \n",
      " 13  Street                object         \n",
      " 14  Side                  object         \n",
      " 15  City                  object         \n",
      " 16  County                object         \n",
      " 17  State                 object         \n",
      " 18  Zipcode               object         \n",
      " 19  Country               object         \n",
      " 20  Timezone              object         \n",
      " 21  AirportCode           object         \n",
      " 22  WeatherTimestamp      object         \n",
      " 23  Temperature           float64        \n",
      " 24  WindChill             float64        \n",
      " 25  Humidity              float64        \n",
      " 26  Pressure              float64        \n",
      " 27  Visibility            float64        \n",
      " 28  WindDirection         object         \n",
      " 29  WindSpeed             float64        \n",
      " 30  Precipitation         float64        \n",
      " 31  WeatherCondition      object         \n",
      " 32  Amenity               bool           \n",
      " 33  Bump                  bool           \n",
      " 34  Crossing              bool           \n",
      " 35  GiveWay               bool           \n",
      " 36  Junction              bool           \n",
      " 37  NoExit                bool           \n",
      " 38  Railway               bool           \n",
      " 39  Roundabout            bool           \n",
      " 40  Station               bool           \n",
      " 41  Stop                  bool           \n",
      " 42  TrafficCalming        bool           \n",
      " 43  TrafficSignal         bool           \n",
      " 44  TurningLoop           bool           \n",
      " 45  SunriseSunset         object         \n",
      " 46  CivilTwilight         object         \n",
      " 47  NauticalTwilight      object         \n",
      " 48  AstronomicalTwilight  object         \n",
      " 49  Duration              timedelta64[ns]\n",
      "dtypes: bool(13), datetime64[ns](2), float64(14), int64(1), object(19), timedelta64[ns](1)\n",
      "memory usage: 1.0+ GB\n"
     ]
    }
   ],
   "source": [
    "df.info()"
   ]
  },
  {
   "cell_type": "code",
   "execution_count": 11,
   "id": "d9bded55",
   "metadata": {
    "collapsed": false
   },
   "outputs": [
    {
     "name": "stderr",
     "output_type": "stream",
     "text": [
      "C:\\Users\\danie\\AppData\\Local\\Temp\\ipykernel_14368\\2432147202.py:13: SettingWithCopyWarning: \n",
      "A value is trying to be set on a copy of a slice from a DataFrame.\n",
      "Try using .loc[row_indexer,col_indexer] = value instead\n",
      "\n",
      "See the caveats in the documentation: https://pandas.pydata.org/pandas-docs/stable/user_guide/indexing.html#returning-a-view-versus-a-copy\n",
      "  time_df.loc[:, \"Time\"] = time_df.apply(lambda x: x[\"StartTime\"].replace(year=2020, month=1, day=1), axis=1)\n",
      "C:\\Users\\danie\\AppData\\Local\\Temp\\ipykernel_14368\\2432147202.py:14: SettingWithCopyWarning: \n",
      "A value is trying to be set on a copy of a slice from a DataFrame.\n",
      "Try using .loc[row_indexer,col_indexer] = value instead\n",
      "\n",
      "See the caveats in the documentation: https://pandas.pydata.org/pandas-docs/stable/user_guide/indexing.html#returning-a-view-versus-a-copy\n",
      "  time_df[\"Duration\"] = time_df[\"Duration\"].astype(\"timedelta64[s]\")\n"
     ]
    },
    {
     "name": "stderr",
     "output_type": "stream",
     "text": [
      "C:\\Users\\danie\\AppData\\Local\\Temp\\ipykernel_14368\\2432147202.py:15: SettingWithCopyWarning: \n",
      "A value is trying to be set on a copy of a slice from a DataFrame.\n",
      "Try using .loc[row_indexer,col_indexer] = value instead\n",
      "\n",
      "See the caveats in the documentation: https://pandas.pydata.org/pandas-docs/stable/user_guide/indexing.html#returning-a-view-versus-a-copy\n",
      "  time_df[\"Severity\"] = time_df[\"Severity\"].astype(\"str\")\n"
     ]
    },
    {
     "name": "stderr",
     "output_type": "stream",
     "text": [
      "C:\\Users\\danie\\AppData\\Local\\Temp\\ipykernel_14368\\2432147202.py:16: SettingWithCopyWarning: \n",
      "A value is trying to be set on a copy of a slice from a DataFrame.\n",
      "Try using .loc[row_indexer,col_indexer] = value instead\n",
      "\n",
      "See the caveats in the documentation: https://pandas.pydata.org/pandas-docs/stable/user_guide/indexing.html#returning-a-view-versus-a-copy\n",
      "  time_df[\"IsWeekDay\"] = [(day.day_of_week in [0, 1, 2, 3, 4]) for day in time_df[\"StartTime\"]]\n"
     ]
    }
   ],
   "source": [
    "columns_time = [\"StartTime\",  \n",
    "                \"EndTime\",    \n",
    "                \"Severity\",\n",
    "                \"Distance\",\n",
    "                \"Duration\",\n",
    "                \"SunriseSunset\",        \n",
    "                \"CivilTwilight\",        \n",
    "                \"NauticalTwilight\",     \n",
    "                \"AstronomicalTwilight\"]\n",
    "\n",
    "time_df = df[columns_time]\n",
    "\n",
    "time_df.loc[:, \"Time\"] = time_df.apply(lambda x: x[\"StartTime\"].replace(year=2020, month=1, day=1), axis=1)\n",
    "time_df[\"Duration\"] = time_df[\"Duration\"].astype(\"timedelta64[s]\")\n",
    "time_df[\"Severity\"] = time_df[\"Severity\"].astype(\"str\")\n",
    "time_df[\"IsWeekDay\"] = [(day.day_of_week in [0, 1, 2, 3, 4]) for day in time_df[\"StartTime\"]]\n",
    "\n"
   ]
  },
  {
   "cell_type": "code",
   "execution_count": 12,
   "id": "d2ebc433",
   "metadata": {
    "collapsed": false
   },
   "outputs": [],
   "source": [
    "def x_tick_maker():\n",
    "    ticks = []\n",
    "    for i in range(8):\n",
    "        ticks.append(f\"{i*3}:00\")\n",
    "    ticks.append(\"00:00\")\n",
    "    return ticks"
   ]
  },
  {
   "cell_type": "code",
   "execution_count": 13,
   "id": "17b8ad31",
   "metadata": {
    "collapsed": false
   },
   "outputs": [
    {
     "name": "stdout",
     "output_type": "stream",
     "text": [
      "True\n"
     ]
    }
   ],
   "source": [
    "for index, row in time_df.iterrows():\n",
    "    print(row[\"IsWeekDay\"])\n",
    "    break"
   ]
  },
  {
   "cell_type": "code",
   "execution_count": 14,
   "id": "a7d3969b",
   "metadata": {
    "collapsed": false
   },
   "outputs": [
    {
     "data": {
      "image/png": "[encoded data removed]",
      "text/plain": [
       "<Figure size 720x720 with 1 Axes>"
      ]
     },
     "metadata": {},
     "output_type": "display_data"
    }
   ],
   "source": [
    "sns.set(rc = {\"figure.figsize\": (10, 10)})\n",
    "\n",
    "x_weights = [1/5 if row[\"IsWeekDay\"] else 1/2 for index, row in time_df.iterrows()]\n",
    "\n",
    "sns.histplot(data=time_df, x=\"Time\", hue=\"IsWeekDay\", bins=100, weights=x_weights)\n",
    "plt.ylabel(\"Total number of accidents\")\n",
    "plt.title(\"Accidents at different times of day\")\n",
    "plt.xticks(ticks=plt.xticks()[0], labels=x_tick_maker())\n",
    "plt.savefig('foo.png', bbox_inches=\"tight\")\n",
    "plt.savefig('foo.pdf')\n",
    "plt.show()"
   ]
  }
 ],
 "metadata": {
  "kernelspec": {
   "argv": [
    "C:/Users/danie/miniconda3/envs/WTData\\python.exe",
    "-m",
    "ipykernel_launcher",
    "-f",
    "{connection_file}"
   ],
   "display_name": "Python 3 (ipykernel)",
   "env": null,
   "interrupt_mode": "signal",
   "language": "python",
   "metadata": {
    "debugger": true
   },
   "name": "python3"
  },
  "name": "TimeData.ipynb"
 },
 "nbformat": 4,
 "nbformat_minor": 5
}
