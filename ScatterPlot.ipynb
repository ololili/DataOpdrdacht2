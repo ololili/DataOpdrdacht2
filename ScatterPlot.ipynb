{
 "cells": [
  {
   "cell_type": "code",
   "execution_count": null,
   "id": "36d9a2e3",
   "metadata": {
    "collapsed": false
   },
   "outputs": [],
   "source": [
    "import pandas as pd\n",
    "import seaborn as sns\n",
    "import matplotlib.pyplot as plt\n",
    "import import_ipynb\n",
    "from DataPreparation import get_small_df, refine_df, mergedPopulationCounts"
   ]
  }
 ],
 "metadata": {
  "kernelspec": {
   "argv": [
    "C:/Users/danie/miniconda3/envs/WTData\\python.exe",
    "-m",
    "ipykernel_launcher",
    "-f",
    "{connection_file}"
   ],
   "display_name": "Python 3 (ipykernel)",
   "env": null,
   "interrupt_mode": "signal",
   "language": "python",
   "metadata": {
    "debugger": true
   },
   "name": "python3"
  },
  "name": "ScatterPlot.ipynb"
 },
 "nbformat": 4,
 "nbformat_minor": 5
}
