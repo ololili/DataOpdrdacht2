{
 "cells": [
  {
   "cell_type": "markdown",
   "id": "d111ab5f",
   "metadata": {
    "collapsed": false
   },
   "source": [
    "Imports"
   ]
  },
  {
   "cell_type": "code",
   "execution_count": 10,
   "id": "6ec40fd5",
   "metadata": {
    "collapsed": false
   },
   "outputs": [],
   "source": [
    "import pandas as pd\n",
    "import random\n",
    "import numpy as np\n",
    "import warnings"
   ]
  },
  {
   "cell_type": "markdown",
   "id": "e43fa085",
   "metadata": {
    "collapsed": false
   },
   "source": [
    "Global functions"
   ]
  },
  {
   "cell_type": "code",
   "execution_count": 3,
   "id": "d5b51a92",
   "metadata": {
    "collapsed": false
   },
   "outputs": [],
   "source": [
    "def get_accident_df(subset=\"standard_small\", n_rows=10000, is_refined=False):\n",
    "    warnings.warn(\"This function is outdated and should not be used.\")\n",
    "    if is_refined:\n",
    "        df = get_accident_df(subset=subset, n_rows=n_rows, is_refined=False)\n",
    "        return refine_df(df)\n",
    "\n",
    "    if subset == \"standard_small\":\n",
    "        return pd.read_csv(\"DataSubsetRaw.csv\")\n",
    "    if subset == \"new\":\n",
    "        n = 3513617 #number of rows in the dataset\n",
    "        s = n_rows #number of rows to sample\n",
    "        skip = sorted(random.sample(range(1, n+1), n-s)) #rows to be skipped\n",
    "        return pd.read_csv(\"US_Accidents_June20.csv\", skiprows=skip)\n",
    "    if subset == \"all\":\n",
    "        return pd.read_csv(\"US_Accidents_June20.csv\")"
   ]
  },
  {
   "cell_type": "markdown",
   "id": "7059bea1",
   "metadata": {
    "collapsed": false
   },
   "source": [
    "Internal functions"
   ]
  },
  {
   "cell_type": "code",
   "execution_count": 12,
   "id": "936dfe46",
   "metadata": {
    "collapsed": false
   },
   "outputs": [],
   "source": [
    "def refine_df(df):\n",
    "    #Modify the df in various ways\n",
    "    return df"
   ]
  },
  {
   "cell_type": "markdown",
   "id": "d260419c",
   "metadata": {
    "collapsed": false
   },
   "source": [
    "Testing"
   ]
  },
  {
   "cell_type": "code",
   "execution_count": 4,
   "id": "2a693374",
   "metadata": {
    "collapsed": false
   },
   "outputs": [],
   "source": [
    "df = pd.read_csv(\"DataSubsetRaw.csv\")"
   ]
  },
  {
   "cell_type": "code",
   "execution_count": 13,
   "id": "4c913d4b",
   "metadata": {
    "collapsed": false
   },
   "outputs": [
    {
     "name": "stdout",
     "output_type": "stream",
     "text": [
      "<class 'pandas.core.frame.DataFrame'>\n",
      "RangeIndex: 10000 entries, 0 to 9999\n",
      "Data columns (total 50 columns):\n",
      " #   Column                 Non-Null Count  Dtype  \n",
      "---  ------                 --------------  -----  \n",
      " 0   Unnamed: 0             10000 non-null  int64  \n",
      " 1   ID                     10000 non-null  object \n",
      " 2   Source                 10000 non-null  object \n",
      " 3   TMC                    7008 non-null   float64\n",
      " 4   Severity               10000 non-null  int64  \n",
      " 5   Start_Time             10000 non-null  object \n",
      " 6   End_Time               10000 non-null  object \n",
      " 7   Start_Lat              10000 non-null  float64\n",
      " 8   Start_Lng              10000 non-null  float64\n",
      " 9   End_Lat                2992 non-null   float64\n",
      " 10  End_Lng                2992 non-null   float64\n",
      " 11  Distance(mi)           10000 non-null  float64\n",
      " 12  Description            10000 non-null  object \n",
      " 13  Number                 3540 non-null   float64\n",
      " 14  Street                 10000 non-null  object \n",
      " 15  Side                   10000 non-null  object \n",
      " 16  City                   9999 non-null   object \n",
      " 17  County                 10000 non-null  object \n",
      " 18  State                  10000 non-null  object \n",
      " 19  Zipcode                9996 non-null   object \n",
      " 20  Country                10000 non-null  object \n",
      " 21  Timezone               9986 non-null   object \n",
      " 22  Airport_Code           9982 non-null   object \n",
      " 23  Weather_Timestamp      9856 non-null   object \n",
      " 24  Temperature(F)         9804 non-null   float64\n",
      " 25  Wind_Chill(F)          4686 non-null   float64\n",
      " 26  Humidity(%)            9786 non-null   float64\n",
      " 27  Pressure(in)           9830 non-null   float64\n",
      " 28  Visibility(mi)         9779 non-null   float64\n",
      " 29  Wind_Direction         9816 non-null   object \n",
      " 30  Wind_Speed(mph)        8661 non-null   float64\n",
      " 31  Precipitation(in)      4208 non-null   float64\n",
      " 32  Weather_Condition      9782 non-null   object \n",
      " 33  Amenity                10000 non-null  bool   \n",
      " 34  Bump                   10000 non-null  bool   \n",
      " 35  Crossing               10000 non-null  bool   \n",
      " 36  Give_Way               10000 non-null  bool   \n",
      " 37  Junction               10000 non-null  bool   \n",
      " 38  No_Exit                10000 non-null  bool   \n",
      " 39  Railway                10000 non-null  bool   \n",
      " 40  Roundabout             10000 non-null  bool   \n",
      " 41  Station                10000 non-null  bool   \n",
      " 42  Stop                   10000 non-null  bool   \n",
      " 43  Traffic_Calming        10000 non-null  bool   \n",
      " 44  Traffic_Signal         10000 non-null  bool   \n",
      " 45  Turning_Loop           10000 non-null  bool   \n",
      " 46  Sunrise_Sunset         9999 non-null   object \n",
      " 47  Civil_Twilight         9999 non-null   object \n",
      " 48  Nautical_Twilight      9999 non-null   object \n",
      " 49  Astronomical_Twilight  9999 non-null   object \n",
      "dtypes: bool(13), float64(14), int64(2), object(21)\n",
      "memory usage: 2.9+ MB\n"
     ]
    }
   ],
   "source": [
    "df.info()"
   ]
  },
  {
   "cell_type": "code",
   "execution_count": 15,
   "id": "470c3a30",
   "metadata": {
    "collapsed": false
   },
   "outputs": [
    {
     "data": {
      "text/plain": [
       "0    29.84\n",
       "1    29.31\n",
       "2    30.04\n",
       "3    30.45\n",
       "4    30.12\n",
       "Name: Pressure(in), dtype: float64"
      ]
     },
     "execution_count": 15,
     "metadata": {},
     "output_type": "execute_result"
    }
   ],
   "source": [
    "df[\"Pressure(in)\"].head()"
   ]
  },
  {
   "cell_type": "code",
   "execution_count": null,
   "id": "9433ac48",
   "metadata": {
    "collapsed": false
   },
   "outputs": [],
   "source": [
    "def convert_to_metric(df):\n",
    "    df[\"Distance(km)\"] = df[\"Distance(mi)\"] * 1.60934\n",
    "    df[\"Temperature(C)\"] = (df[\"Temperature(F)\"] - 32) * 5 / 9\n",
    "    df[\"Wind_Chill(C)\"] = (df[\"Wind_Chill(F)\"] - 32) * 5 / 9\n",
    "    df[\"Pressure(bar)\"] = df[\"Pressure(in)\"] / 29.53\n",
    "    return df"
   ]
  }
 ],
 "metadata": {
  "kernelspec": {
   "argv": [
    "C:/Users/danie/miniconda3/envs/WTData\\python.exe",
    "-m",
    "ipykernel_launcher",
    "-f",
    "{connection_file}"
   ],
   "display_name": "Python 3 (ipykernel)",
   "env": null,
   "interrupt_mode": "signal",
   "language": "python",
   "metadata": {
    "debugger": true
   },
   "name": "python3"
  },
  "language_info": {
   "codemirror_mode": {
    "name": "ipython",
    "version": 3
   },
   "file_extension": ".py",
   "mimetype": "text/x-python",
   "name": "python",
   "nbconvert_exporter": "python",
   "pygments_lexer": "ipython3",
   "version": "3.10.4"
  },
  "name": "DataPreparation.ipynb"
 },
 "nbformat": 4,
 "nbformat_minor": 5
}
