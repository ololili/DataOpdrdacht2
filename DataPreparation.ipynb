{
 "cells": [
  {
   "cell_type": "markdown",
   "id": "21ee7c51",
   "metadata": {},
   "source": [
    "Imports"
   ]
  },
  {
   "cell_type": "code",
   "execution_count": 31,
   "id": "6f03f958",
   "metadata": {},
   "outputs": [],
   "source": [
    "import pandas as pd\n",
    "import random\n",
    "import numpy as np\n",
    "import warnings"
   ]
  },
  {
   "cell_type": "markdown",
   "id": "ee366593",
   "metadata": {},
   "source": [
    "Global functions"
   ]
  },
  {
   "cell_type": "code",
   "execution_count": 32,
   "id": "96003d5b",
   "metadata": {},
   "outputs": [],
   "source": [
    "def get_accident_df(subset=\"standard_small\", n_rows=10000, is_refined=False):\n",
    "    warnings.warn(\"This function is outdated and should not be used.\")\n",
    "    if is_refined:\n",
    "        df = get_accident_df(subset=subset, n_rows=n_rows, is_refined=False)\n",
    "        return refine_df(df)\n",
    "\n",
    "    if subset == \"standard_small\":\n",
    "        return pd.read_csv(\"DataSubsetRaw.csv\")\n",
    "    if subset == \"new\":\n",
    "        n = 3513617 #number of rows in the dataset\n",
    "        s = n_rows #number of rows to sample\n",
    "        skip = sorted(random.sample(range(1, n+1), n-s)) #rows to be skipped\n",
    "        return pd.read_csv(\"US_Accidents_June20.csv\", skiprows=skip)\n",
    "    if subset == \"all\":\n",
    "        return pd.read_csv(\"US_Accidents_June20.csv\")"
   ]
  },
  {
   "cell_type": "markdown",
   "id": "859fcb42",
   "metadata": {},
   "source": [
    "Internal functions"
   ]
  },
  {
   "cell_type": "code",
   "execution_count": 33,
   "id": "316b901b",
   "metadata": {},
   "outputs": [],
   "source": [
    "def refine_df(df):\n",
    "    df = change_column_names(df)\n",
    "    df = convert_to_metric(df)\n",
    "    df = timeStamp_df(df)\n",
    "    df = duration_df(df)\n",
    "    return df"
   ]
  },
  {
   "cell_type": "code",
   "execution_count": 34,
   "id": "ad734208",
   "metadata": {},
   "outputs": [],
   "source": [
    "def change_column_names(df):\n",
    "    col_names = df.columns\n",
    "    col_names = [name.replace(\"_\", \"\") for name in col_names]\n",
    "    col_names = [name[:loc] if (loc := name.find(\"(\")) != -1 else name for name in col_names]\n",
    "    df.columns = col_names\n",
    "    return df"
   ]
  },
  {
   "cell_type": "code",
   "execution_count": 37,
   "id": "eb4f4b5a",
   "metadata": {},
   "outputs": [],
   "source": [
    "def convert_to_metric(df):\n",
    "    #miles to km\n",
    "    df[\"Distance\"] = df[\"Distance\"] * 1.60934\n",
    "\n",
    "    #F to C\n",
    "    df[\"Temperature\"] = (df[\"Temperature\"] - 32) * 5 / 9\n",
    "\n",
    "    #F to C\n",
    "    df[\"WindChill\"] = (df[\"WindChill\"] - 32) * 5 / 9\n",
    "\n",
    "    #inches of mercury to bar\n",
    "    df[\"Pressure\"] = df[\"Pressure\"] / 29.53\n",
    "\n",
    "    #miles to km\n",
    "    df[\"Visibility\"] = df[\"Visibility\"] * 1.60934\n",
    "\n",
    "    #mph to kph\n",
    "    df[\"WindSpeed\"] = df[\"WindSpeed\"] * 1.60934\n",
    "\n",
    "    #inches to cm\n",
    "    df[\"Precipitation\"] = df[\"Precipitation\"] * 2.54\n",
    "    return df"
   ]
  },
  {
   "cell_type": "code",
   "execution_count": null,
   "id": "538e15fa",
   "metadata": {},
   "outputs": [],
   "source": [
    "#This function converts Start_Time and End_Time data in dataframe to 'datetime64[ns]' datatype.\n",
    "def timeStamp_df(df):\n",
    "    df['StartTime'] = pd.to_datetime(df['StartTime'])\n",
    "    df['EndTime'] = pd.to_datetime(df['EndTime'])\n",
    "    return df"
   ]
  },
  {
   "cell_type": "code",
   "execution_count": null,
   "id": "35eba558",
   "metadata": {},
   "outputs": [],
   "source": [
    "#This function creates column in df with duration data as dataype 'timedelta64[ns]'.\n",
    "def duration_df(df):\n",
    "    df['Duration'] = (df['EndTime']-df['StartTime'])\n",
    "    return df"
   ]
  },
  {
   "cell_type": "markdown",
   "id": "852ebf3f",
   "metadata": {},
   "source": [
    "Testing"
   ]
  }
 ],
 "metadata": {
  "kernelspec": {
   "display_name": "Python 3 (ipykernel)",
   "language": "python",
   "name": "python3"
  },
  "language_info": {
   "codemirror_mode": {
    "name": "ipython",
    "version": 3
   },
   "file_extension": ".py",
   "mimetype": "text/x-python",
   "name": "python",
   "nbconvert_exporter": "python",
   "pygments_lexer": "ipython3",
   "version": "3.10.4"
  },
  "name": "DataPreparation.ipynb"
 },
 "nbformat": 4,
 "nbformat_minor": 5
}
