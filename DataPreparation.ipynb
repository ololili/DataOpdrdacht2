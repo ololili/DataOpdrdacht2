{
 "cells": [
  {
   "cell_type": "markdown",
   "id": "742db187",
   "metadata": {
    "collapsed": false
   },
   "source": [
    "Imports"
   ]
  },
  {
   "cell_type": "code",
   "execution_count": 10,
   "id": "dd77300b",
   "metadata": {
    "collapsed": false
   },
   "outputs": [],
   "source": [
    "import pandas as pd\n",
    "import random\n",
    "import numpy as np\n",
    "import warnings"
   ]
  },
  {
   "cell_type": "markdown",
   "id": "c0320ded",
   "metadata": {
    "collapsed": false
   },
   "source": [
    "Global functions"
   ]
  },
  {
   "cell_type": "code",
   "execution_count": 3,
   "id": "6bf8298d",
   "metadata": {
    "collapsed": false
   },
   "outputs": [],
   "source": [
    "def get_accident_df(subset=\"standard_small\", n_rows=10000, is_refined=False):\n",
    "    warnings.warn(\"This function is outdated and should not be used.\")\n",
    "    if is_refined:\n",
    "        df = get_accident_df(subset=subset, n_rows=n_rows, is_refined=False)\n",
    "        return refine_df(df)\n",
    "\n",
    "    if subset == \"standard_small\":\n",
    "        return pd.read_csv(\"DataSubsetRaw.csv\")\n",
    "    if subset == \"new\":\n",
    "        n = 3513617 #number of rows in the dataset\n",
    "        s = n_rows #number of rows to sample\n",
    "        skip = sorted(random.sample(range(1, n+1), n-s)) #rows to be skipped\n",
    "        return pd.read_csv(\"US_Accidents_June20.csv\", skiprows=skip)\n",
    "    if subset == \"all\":\n",
    "        return pd.read_csv(\"US_Accidents_June20.csv\")"
   ]
  },
  {
   "cell_type": "markdown",
   "id": "134297b2",
   "metadata": {
    "collapsed": false
   },
   "source": [
    "Internal functions"
   ]
  },
  {
   "cell_type": "code",
   "execution_count": 12,
   "id": "b9ff7ca6",
   "metadata": {
    "collapsed": false
   },
   "outputs": [],
   "source": [
    "def refine_df(df):\n",
    "    #Modify the df in various ways\n",
    "    return df"
   ]
  },
  {
   "cell_type": "markdown",
   "id": "31afaca1",
   "metadata": {
    "collapsed": false
   },
   "source": [
    "Testing"
   ]
  },
  {
   "cell_type": "code",
   "execution_count": 4,
   "id": "87961ca4",
   "metadata": {
    "collapsed": false
   },
   "outputs": [],
   "source": [
    "df = pd.read_csv(\"DataSubsetRaw.csv\")"
   ]
  },
  {
   "cell_type": "code",
   "execution_count": null,
   "id": "27c63ff5",
   "metadata": {
    "collapsed": false
   },
   "outputs": [],
   "source": [
    "def convert_to_metric(df):\n",
    "    df[\"Distance(km)\"] = df[\"Distance(mi)\"] * 1.60934\n",
    "    df[\"Temperature(C)\"] = (df[\"Temperature(F)\"] - 32) * 5 / 9\n",
    "    return df"
   ]
  }
 ],
 "metadata": {
  "kernelspec": {
   "argv": [
    "C:/Users/danie/miniconda3/envs/WTData\\python.exe",
    "-m",
    "ipykernel_launcher",
    "-f",
    "{connection_file}"
   ],
   "display_name": "Python 3 (ipykernel)",
   "env": null,
   "interrupt_mode": "signal",
   "language": "python",
   "metadata": {
    "debugger": true
   },
   "name": "python3"
  },
  "language_info": {
   "codemirror_mode": {
    "name": "ipython",
    "version": 3
   },
   "file_extension": ".py",
   "mimetype": "text/x-python",
   "name": "python",
   "nbconvert_exporter": "python",
   "pygments_lexer": "ipython3",
   "version": "3.10.4"
  },
  "name": "DataPreparation.ipynb"
 },
 "nbformat": 4,
 "nbformat_minor": 5
}
