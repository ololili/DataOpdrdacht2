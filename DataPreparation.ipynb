{
 "cells": [
  {
   "cell_type": "markdown",
   "id": "21ee7c51",
   "metadata": {
    "collapsed": false,
    "pycharm": {
     "name": "#%% md\n"
    }
   },
   "source": [
    "Imports"
   ]
  },
  {
   "cell_type": "code",
   "execution_count": 1,
   "id": "6f03f958",
   "metadata": {
    "collapsed": false,
    "pycharm": {
     "name": "#%%\n"
    }
   },
   "outputs": [],
   "source": [
    "import pandas as pd\n",
    "import random\n",
    "import numpy as np\n",
    "import warnings"
   ]
  },
  {
   "cell_type": "markdown",
   "id": "ee366593",
   "metadata": {
    "collapsed": false,
    "pycharm": {
     "name": "#%% md\n"
    }
   },
   "source": [
    "Global functions"
   ]
  },
  {
   "cell_type": "code",
   "execution_count": 2,
   "id": "96003d5b",
   "metadata": {
    "collapsed": false,
    "pycharm": {
     "name": "#%%\n"
    }
   },
   "outputs": [],
   "source": [
    "def get_accident_df(subset=\"standard_small\", n_rows=10000, is_refined=False):\n",
    "    warnings.warn(\"This function is outdated and should not be used.\")\n",
    "    if is_refined:\n",
    "        df = get_accident_df(subset=subset, n_rows=n_rows, is_refined=False)\n",
    "        return refine_df(df)\n",
    "\n",
    "    if subset == \"standard_small\":\n",
    "        return pd.read_csv(\"DataSubsetRaw.csv\")\n",
    "    if subset == \"new\":\n",
    "        n = 3513617 #number of rows in the dataset\n",
    "        s = n_rows #number of rows to sample\n",
    "        skip = sorted(random.sample(range(1, n+1), n-s)) #rows to be skipped\n",
    "        return pd.read_csv(\"US_Accidents_June20.csv\", skiprows=skip)\n",
    "    if subset == \"all\":\n",
    "        return pd.read_csv(\"US_Accidents_June20.csv\")"
   ]
  },
  {
   "cell_type": "markdown",
   "id": "859fcb42",
   "metadata": {
    "collapsed": false,
    "pycharm": {
     "name": "#%% md\n"
    }
   },
   "source": [
    "Internal functions"
   ]
  },
  {
   "cell_type": "code",
   "execution_count": 3,
   "id": "316b901b",
   "metadata": {
    "collapsed": false,
    "pycharm": {
     "name": "#%%\n"
    }
   },
   "outputs": [],
   "source": [
    "def refine_df(df):\n",
    "    df = change_column_names(df)\n",
    "    df = convert_to_metric(df)\n",
    "    return df"
   ]
  },
  {
   "cell_type": "code",
   "execution_count": 4,
   "id": "ad734208",
   "metadata": {
    "collapsed": false,
    "pycharm": {
     "name": "#%%\n"
    }
   },
   "outputs": [
    {
     "ename": "SyntaxError",
     "evalue": "invalid syntax (4149663219.py, line 4)",
     "output_type": "error",
     "traceback": [
      "\u001b[1;36m  File \u001b[1;32m\"C:\\Users\\Dennis Pieruschka\\AppData\\Local\\Temp\\ipykernel_8436\\4149663219.py\"\u001b[1;36m, line \u001b[1;32m4\u001b[0m\n\u001b[1;33m    col_names = [name[:loc] if (loc := name.find(\"(\")) != -1 else name for name in col_names]\u001b[0m\n\u001b[1;37m                                    ^\u001b[0m\n\u001b[1;31mSyntaxError\u001b[0m\u001b[1;31m:\u001b[0m invalid syntax\n"
     ]
    }
   ],
   "source": [
    "def change_column_names(df):\n",
    "    col_names = df.columns\n",
    "    col_names = [name.replace(\"_\", \"\") for name in col_names]\n",
    "    col_names = [name[:loc] if (loc := name.find(\"(\")) != -1 else name for name in col_names]\n",
    "    df.columns = col_names\n",
    "    return df"
   ]
  },
  {
   "cell_type": "code",
   "execution_count": null,
   "id": "eb4f4b5a",
   "metadata": {
    "collapsed": false,
    "pycharm": {
     "name": "#%%\n"
    }
   },
   "outputs": [],
   "source": [
    "def convert_to_metric(df):\n",
    "    #miles to km\n",
    "    df[\"Distance\"] = df[\"Distance\"] * 1.60934\n",
    "\n",
    "    #F to C\n",
    "    df[\"Temperature\"] = (df[\"Temperature\"] - 32) * 5 / 9\n",
    "\n",
    "    #F to C\n",
    "    df[\"WindChill\"] = (df[\"WindChill\"] - 32) * 5 / 9\n",
    "\n",
    "    #inches of mercury to bar\n",
    "    df[\"Pressure\"] = df[\"Pressure\"] / 29.53\n",
    "\n",
    "    #miles to km\n",
    "    df[\"Visibility\"] = df[\"Visibility\"] * 1.60934\n",
    "\n",
    "    #mph to kph\n",
    "    df[\"WindSpeed\"] = df[\"WindSpeed\"] * 1.60934\n",
    "\n",
    "    #inches to cm\n",
    "    df[\"Precipitation\"] = df[\"Precipitation\"] * 2.54\n",
    "    return df"
   ]
  },
  {
   "cell_type": "markdown",
   "id": "852ebf3f",
   "metadata": {
    "collapsed": false,
    "pycharm": {
     "name": "#%% md\n"
    }
   },
   "source": [
    "Testing"
   ]
  }
 ],
 "metadata": {
  "kernelspec": {
   "argv": [
    "C:/Users/danie/miniconda3/envs/WTData\\python.exe",
    "-m",
    "ipykernel_launcher",
    "-f",
    "{connection_file}"
   ],
   "display_name": "Python 3 (ipykernel)",
   "env": null,
   "interrupt_mode": "signal",
   "language": "python",
   "metadata": {
    "debugger": true
   },
   "name": "python3"
  },
  "language_info": {
   "codemirror_mode": {
    "name": "ipython",
    "version": 3
   },
   "file_extension": ".py",
   "mimetype": "text/x-python",
   "name": "python",
   "nbconvert_exporter": "python",
   "pygments_lexer": "ipython3",
   "version": "3.7.0"
  },
  "name": "DataPreparation.ipynb"
 },
 "nbformat": 4,
 "nbformat_minor": 5
}
