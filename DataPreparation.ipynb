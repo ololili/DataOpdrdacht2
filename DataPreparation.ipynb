{
 "cells": [
  {
   "cell_type": "markdown",
   "id": "bc3646d7",
   "metadata": {
    "collapsed": false
   },
   "source": [
    "Imports"
   ]
  },
  {
   "cell_type": "code",
   "execution_count": 2,
   "id": "a0812715",
   "metadata": {
    "collapsed": false
   },
   "outputs": [],
   "source": [
    "import pandas as pd\n",
    "import random\n",
    "import numpy as np\n",
    "import warnings"
   ]
  },
  {
   "cell_type": "markdown",
   "id": "e254ee67",
   "metadata": {
    "collapsed": false
   },
   "source": [
    "Global functions"
   ]
  },
  {
   "cell_type": "code",
   "execution_count": 3,
   "id": "1293e384",
   "metadata": {
    "collapsed": false
   },
   "outputs": [],
   "source": [
    "def get_accident_df(subset=\"standard_small\", n_rows=10000, is_refined=False):\n",
    "    warnings.warn(\"This function is outdated and should not be used.\")\n",
    "    if is_refined:\n",
    "        df = get_accident_df(subset=subset, n_rows=n_rows, is_refined=False)\n",
    "        return refine_df(df)\n",
    "\n",
    "    if subset == \"standard_small\":\n",
    "        return pd.read_csv(\"DataSubsetRaw.csv\")\n",
    "    if subset == \"new\":\n",
    "        n = 3513617 #number of rows in the dataset\n",
    "        s = n_rows #number of rows to sample\n",
    "        skip = sorted(random.sample(range(1, n+1), n-s)) #rows to be skipped\n",
    "        return pd.read_csv(\"US_Accidents_June20.csv\", skiprows=skip)\n",
    "    if subset == \"all\":\n",
    "        return pd.read_csv(\"US_Accidents_June20.csv\")"
   ]
  },
  {
   "cell_type": "markdown",
   "id": "f9bb4b11",
   "metadata": {
    "collapsed": false
   },
   "source": [
    "Internal functions"
   ]
  },
  {
   "cell_type": "code",
   "execution_count": null,
   "id": "a8520eaf",
   "metadata": {
    "collapsed": false
   },
   "outputs": [],
   "source": [
    "def get_small_df(size=100):\n",
    "    n = 3513617 #number of rows in the dataset                          \n",
    "    s = size #number of rows to sample                                \n",
    "    skip = sorted(random.sample(range(1, n+1), n-s)) #rows to be skipped\n",
    "    return pd.read_csv(\"US_Accidents_June20.csv\", skiprows=skip)        "
   ]
  },
  {
   "cell_type": "code",
   "execution_count": 4,
   "id": "ec02fb29",
   "metadata": {
    "collapsed": false
   },
   "outputs": [],
   "source": [
    "def refine_df(df):\n",
    "    df = change_column_names(df)\n",
    "    df = convert_to_metric(df)\n",
    "    df = timeStamp_df(df)\n",
    "    df = duration_df(df)\n",
    "    return df"
   ]
  },
  {
   "cell_type": "code",
   "execution_count": 5,
   "id": "9a7c9462",
   "metadata": {
    "collapsed": false
   },
   "outputs": [],
   "source": [
    "def change_column_names(df):\n",
    "    col_names = df.columns\n",
    "    col_names = [name.replace(\"_\", \"\") for name in col_names]\n",
    "    col_names = [name[:loc] if (loc := name.find(\"(\")) != -1 else name for name in col_names]\n",
    "    df.columns = col_names\n",
    "    return df"
   ]
  },
  {
   "cell_type": "code",
   "execution_count": 6,
   "id": "c9849e1a",
   "metadata": {
    "collapsed": false
   },
   "outputs": [],
   "source": [
    "def convert_to_metric(df):\n",
    "    #miles to km\n",
    "    df[\"Distance\"] = df[\"Distance\"] * 1.60934\n",
    "\n",
    "    #F to C\n",
    "    df[\"Temperature\"] = (df[\"Temperature\"] - 32) * 5 / 9\n",
    "\n",
    "    #F to C\n",
    "    df[\"WindChill\"] = (df[\"WindChill\"] - 32) * 5 / 9\n",
    "\n",
    "    #inches of mercury to bar\n",
    "    df[\"Pressure\"] = df[\"Pressure\"] / 29.53\n",
    "\n",
    "    #miles to km\n",
    "    df[\"Visibility\"] = df[\"Visibility\"] * 1.60934\n",
    "\n",
    "    #mph to kph\n",
    "    df[\"WindSpeed\"] = df[\"WindSpeed\"] * 1.60934\n",
    "\n",
    "    #inches to cm\n",
    "    df[\"Precipitation\"] = df[\"Precipitation\"] * 2.54\n",
    "    return df"
   ]
  },
  {
   "cell_type": "code",
   "execution_count": 7,
   "id": "4334b193",
   "metadata": {
    "collapsed": false
   },
   "outputs": [],
   "source": [
    "#This function converts Start_Time and End_Time data in dataframe to 'datetime64[ns]' datatype.\n",
    "def timeStamp_df(df):\n",
    "    df['StartTime'] = pd.to_datetime(df['StartTime'])\n",
    "    df['EndTime'] = pd.to_datetime(df['EndTime'])\n",
    "    return df"
   ]
  },
  {
   "cell_type": "code",
   "execution_count": 8,
   "id": "2f67de66",
   "metadata": {
    "collapsed": false
   },
   "outputs": [],
   "source": [
    "#This function creates column in df with duration data as dataype 'timedelta64[ns]'.\n",
    "def duration_df(df):\n",
    "    df['Duration'] = (df['EndTime']-df['StartTime'])\n",
    "    return df"
   ]
  },
  {
   "cell_type": "markdown",
   "id": "8b000402",
   "metadata": {
    "collapsed": false
   },
   "source": [
    "Testing"
   ]
  },
  {
   "cell_type": "code",
   "execution_count": 19,
   "id": "9b2a0d81",
   "metadata": {
    "collapsed": false
   },
   "outputs": [],
   "source": [
    "df = pd.read_csv(\"US_Accidents_June20.csv\").sample(200000)\n",
    "df = refine_df(df)"
   ]
  },
  {
   "cell_type": "code",
   "execution_count": 20,
   "id": "9cf9bfa3",
   "metadata": {
    "collapsed": false
   },
   "outputs": [],
   "source": [
    "df_accident = df\n",
    "df_city_pop = pd.read_csv(\"CityPopulations.csv\")"
   ]
  },
  {
   "cell_type": "code",
   "execution_count": null,
   "id": "edc5e2fc",
   "metadata": {
    "collapsed": false
   },
   "outputs": [],
   "source": [
    "df_accident_count = df_accident.groupby([\"City\", \"State\"]).count().reset_index()\n"
   ]
  },
  {
   "cell_type": "code",
   "execution_count": 22,
   "id": "17dc9546",
   "metadata": {
    "collapsed": false
   },
   "outputs": [
    {
     "name": "stdout",
     "output_type": "stream",
     "text": [
      "<class 'pandas.core.frame.DataFrame'>\n",
      "RangeIndex: 9033 entries, 0 to 9032\n",
      "Data columns (total 50 columns):\n",
      " #   Column                Non-Null Count  Dtype \n",
      "---  ------                --------------  ----- \n",
      " 0   City                  9033 non-null   object\n",
      " 1   State                 9033 non-null   object\n",
      " 2   ID                    9033 non-null   int64 \n",
      " 3   Source                9033 non-null   int64 \n",
      " 4   TMC                   9033 non-null   int64 \n",
      " 5   Severity              9033 non-null   int64 \n",
      " 6   StartTime             9033 non-null   int64 \n",
      " 7   EndTime               9033 non-null   int64 \n",
      " 8   StartLat              9033 non-null   int64 \n",
      " 9   StartLng              9033 non-null   int64 \n",
      " 10  EndLat                9033 non-null   int64 \n",
      " 11  EndLng                9033 non-null   int64 \n",
      " 12  Distance              9033 non-null   int64 \n",
      " 13  Description           9033 non-null   int64 \n",
      " 14  Number                9033 non-null   int64 \n",
      " 15  Street                9033 non-null   int64 \n",
      " 16  Side                  9033 non-null   int64 \n",
      " 17  County                9033 non-null   int64 \n",
      " 18  Zipcode               9033 non-null   int64 \n",
      " 19  Country               9033 non-null   int64 \n",
      " 20  Timezone              9033 non-null   int64 \n",
      " 21  AirportCode           9033 non-null   int64 \n",
      " 22  WeatherTimestamp      9033 non-null   int64 \n",
      " 23  Temperature           9033 non-null   int64 \n",
      " 24  WindChill             9033 non-null   int64 \n",
      " 25  Humidity              9033 non-null   int64 \n",
      " 26  Pressure              9033 non-null   int64 \n",
      " 27  Visibility            9033 non-null   int64 \n",
      " 28  WindDirection         9033 non-null   int64 \n",
      " 29  WindSpeed             9033 non-null   int64 \n",
      " 30  Precipitation         9033 non-null   int64 \n",
      " 31  WeatherCondition      9033 non-null   int64 \n",
      " 32  Amenity               9033 non-null   int64 \n",
      " 33  Bump                  9033 non-null   int64 \n",
      " 34  Crossing              9033 non-null   int64 \n",
      " 35  GiveWay               9033 non-null   int64 \n",
      " 36  Junction              9033 non-null   int64 \n",
      " 37  NoExit                9033 non-null   int64 \n",
      " 38  Railway               9033 non-null   int64 \n",
      " 39  Roundabout            9033 non-null   int64 \n",
      " 40  Station               9033 non-null   int64 \n",
      " 41  Stop                  9033 non-null   int64 \n",
      " 42  TrafficCalming        9033 non-null   int64 \n",
      " 43  TrafficSignal         9033 non-null   int64 \n",
      " 44  TurningLoop           9033 non-null   int64 \n",
      " 45  SunriseSunset         9033 non-null   int64 \n",
      " 46  CivilTwilight         9033 non-null   int64 \n",
      " 47  NauticalTwilight      9033 non-null   int64 \n",
      " 48  AstronomicalTwilight  9033 non-null   int64 \n",
      " 49  Duration              9033 non-null   int64 \n",
      "dtypes: int64(48), object(2)\n",
      "memory usage: 3.4+ MB\n"
     ]
    }
   ],
   "source": [
    "df_accident_count.info()"
   ]
  },
  {
   "cell_type": "code",
   "execution_count": 30,
   "id": "5d10f7fc",
   "metadata": {
    "collapsed": false
   },
   "outputs": [],
   "source": [
    "df_accident_count = df_accident_count.loc[:, [\"City\", \"State\", \"ID\"]]"
   ]
  },
  {
   "cell_type": "code",
   "execution_count": 32,
   "id": "534d2083",
   "metadata": {
    "collapsed": false
   },
   "outputs": [],
   "source": [
    "df_accident_count[\"Amount\"] = df_accident_count[\"ID\"]"
   ]
  },
  {
   "cell_type": "code",
   "execution_count": 34,
   "id": "b41b323f",
   "metadata": {
    "collapsed": false
   },
   "outputs": [
    {
     "data": {
      "text/html": [
       "<div>\n",
       "<style scoped>\n",
       "    .dataframe tbody tr th:only-of-type {\n",
       "        vertical-align: middle;\n",
       "    }\n",
       "\n",
       "    .dataframe tbody tr th {\n",
       "        vertical-align: top;\n",
       "    }\n",
       "\n",
       "    .dataframe thead th {\n",
       "        text-align: right;\n",
       "    }\n",
       "</style>\n",
       "<table border=\"1\" class=\"dataframe\">\n",
       "  <thead>\n",
       "    <tr style=\"text-align: right;\">\n",
       "      <th></th>\n",
       "      <th>City</th>\n",
       "      <th>State</th>\n",
       "      <th>Population</th>\n",
       "      <th>lat</th>\n",
       "      <th>lon</th>\n",
       "    </tr>\n",
       "  </thead>\n",
       "  <tbody>\n",
       "    <tr>\n",
       "      <th>0</th>\n",
       "      <td>Marysville</td>\n",
       "      <td>Washington</td>\n",
       "      <td>63269</td>\n",
       "      <td>48.051764</td>\n",
       "      <td>-122.177082</td>\n",
       "    </tr>\n",
       "    <tr>\n",
       "      <th>1</th>\n",
       "      <td>Perris</td>\n",
       "      <td>California</td>\n",
       "      <td>72326</td>\n",
       "      <td>33.782519</td>\n",
       "      <td>-117.228648</td>\n",
       "    </tr>\n",
       "    <tr>\n",
       "      <th>2</th>\n",
       "      <td>Cleveland</td>\n",
       "      <td>Ohio</td>\n",
       "      <td>390113</td>\n",
       "      <td>41.499320</td>\n",
       "      <td>-81.694361</td>\n",
       "    </tr>\n",
       "    <tr>\n",
       "      <th>3</th>\n",
       "      <td>Worcester</td>\n",
       "      <td>Massachusetts</td>\n",
       "      <td>182544</td>\n",
       "      <td>42.262593</td>\n",
       "      <td>-71.802293</td>\n",
       "    </tr>\n",
       "    <tr>\n",
       "      <th>4</th>\n",
       "      <td>Columbia</td>\n",
       "      <td>South Carolina</td>\n",
       "      <td>133358</td>\n",
       "      <td>34.000710</td>\n",
       "      <td>-81.034814</td>\n",
       "    </tr>\n",
       "  </tbody>\n",
       "</table>\n",
       "</div>"
      ],
      "text/plain": [
       "         City           State  Population        lat         lon\n",
       "0  Marysville      Washington       63269  48.051764 -122.177082\n",
       "1      Perris      California       72326  33.782519 -117.228648\n",
       "2   Cleveland            Ohio      390113  41.499320  -81.694361\n",
       "3   Worcester   Massachusetts      182544  42.262593  -71.802293\n",
       "4    Columbia  South Carolina      133358  34.000710  -81.034814"
      ]
     },
     "execution_count": 34,
     "metadata": {},
     "output_type": "execute_result"
    }
   ],
   "source": [
    "df_city_pop.head()"
   ]
  }
 ],
 "metadata": {
  "kernelspec": {
   "argv": [
    "C:/Users/danie/miniconda3/envs/WTData\\python.exe",
    "-m",
    "ipykernel_launcher",
    "-f",
    "{connection_file}"
   ],
   "display_name": "Python 3 (ipykernel)",
   "env": null,
   "interrupt_mode": "signal",
   "language": "python",
   "metadata": {
    "debugger": true
   },
   "name": "python3"
  },
  "language_info": {
   "codemirror_mode": {
    "name": "ipython",
    "version": 3
   },
   "file_extension": ".py",
   "mimetype": "text/x-python",
   "name": "python",
   "nbconvert_exporter": "python",
   "pygments_lexer": "ipython3",
   "version": "3.10.4"
  },
  "name": "DataPreparation.ipynb"
 },
 "nbformat": 4,
 "nbformat_minor": 5
}
