{
 "cells": [
  {
   "cell_type": "markdown",
   "id": "c509445b",
   "metadata": {
    "collapsed": false
   },
   "source": [
    "Imports"
   ]
  },
  {
   "cell_type": "code",
   "execution_count": 10,
   "id": "6f9383c2",
   "metadata": {
    "collapsed": false
   },
   "outputs": [],
   "source": [
    "import pandas as pd\n",
    "import random"
   ]
  },
  {
   "cell_type": "markdown",
   "id": "affaf6b1",
   "metadata": {
    "collapsed": false
   },
   "source": [
    "Global functions"
   ]
  },
  {
   "cell_type": "code",
   "execution_count": 11,
   "id": "b2da919a",
   "metadata": {
    "collapsed": false
   },
   "outputs": [],
   "source": [
    "def get_accident_df(subset=\"standard_small\", n_rows=10000, is_refined=False):\n",
    "    if is_refined:\n",
    "        df = get_accident_df(subset=subset, n_rows=n_rows, is_refined=False)\n",
    "        return refine_df(df)\n",
    "\n",
    "    if subset == \"standard_small\":\n",
    "        return pd.read_csv(\"DataSubsetRaw.csv\")\n",
    "    if subset == \"new\":\n",
    "        n = 3513617 #number of rows in the dataset\n",
    "        s = n_rows #number of rows to sample\n",
    "        skip = sorted(random.sample(range(1, n+1), n-s)) #rows to be skipped\n",
    "        return pd.read_csv(\"US_Accidents_June20.csv\", skiprows=skip)\n",
    "    if subset == \"all\":\n",
    "        return pd.read_csv(\"US_Accidents_June20.csv\")"
   ]
  },
  {
   "cell_type": "markdown",
   "id": "779eb48b",
   "metadata": {
    "collapsed": false
   },
   "source": [
    "Internal functions"
   ]
  },
  {
   "cell_type": "code",
   "execution_count": 12,
   "id": "5317840d",
   "metadata": {
    "collapsed": false
   },
   "outputs": [],
   "source": [
    "def refine_df(df):\n",
    "    #Modify the df in various ways\n",
    "    return df"
   ]
  }
 ],
 "metadata": {
  "kernelspec": {
   "argv": [
    "C:/Users/danie/miniconda3/envs/WTData\\python.exe",
    "-m",
    "ipykernel_launcher",
    "-f",
    "{connection_file}"
   ],
   "display_name": "Python 3 (ipykernel)",
   "env": null,
   "interrupt_mode": "signal",
   "language": "python",
   "metadata": {
    "debugger": true
   },
   "name": "python3"
  },
  "name": "DataPreparation.ipynb"
 },
 "nbformat": 4,
 "nbformat_minor": 5
}
